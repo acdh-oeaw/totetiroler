{
 "cells": [
  {
   "cell_type": "code",
   "execution_count": 1,
   "metadata": {
    "collapsed": true
   },
   "outputs": [],
   "source": [
    "import csv, re"
   ]
  },
  {
   "cell_type": "code",
   "execution_count": 2,
   "metadata": {
    "collapsed": false
   },
   "outputs": [],
   "source": [
    "file = \"data/controlledvocab_ort_2016-08-12.csv\"\n",
    "with open(file, 'r', encoding='utf-8') as data:\n",
    "    reader = csv.reader(data)\n",
    "    datalist = list(reader)"
   ]
  },
  {
   "cell_type": "code",
   "execution_count": 3,
   "metadata": {
    "collapsed": false
   },
   "outputs": [
    {
     "name": "stderr",
     "output_type": "stream",
     "text": [
      "C:\\Anaconda3\\envs\\totetiroler\\lib\\site-packages\\django\\db\\backends\\mysql\\base.py:112: Warning: Data truncated for column 'comment' at row 1\n",
      "  return self.cursor.execute(query, args)\n",
      "\n",
      "WARNING:py.warnings:C:\\Anaconda3\\envs\\totetiroler\\lib\\site-packages\\django\\db\\backends\\mysql\\base.py:112: Warning: Data truncated for column 'comment' at row 1\n",
      "  return self.cursor.execute(query, args)\n",
      "\n"
     ]
    }
   ],
   "source": [
    "for x in datalist:\n",
    "    places = x[0].split(\"__\")\n",
    "    temp_lg, _ = Landgericht.objects.get_or_create(name=places[0])\n",
    "    temp_pl, _ = Place.objects.get_or_create(name=places[1])\n",
    "    temp_pl.landgericht=temp_lg\n",
    "    if \"http\" in x[5]:\n",
    "        pass\n",
    "    else:\n",
    "        temp_pl.comment=x[5]\n",
    "    if x[2] != \"NULL\":\n",
    "        temp_pl.geonames_id=x[2]\n",
    "        temp_pl.lat = float(x[3].replace(\",\",\".\"))\n",
    "        temp_pl.lng = float(x[4].replace(\",\",\".\"))\n",
    "    temp_pl.legacy_id = x[0]\n",
    "    temp_pl.save()\n",
    "    #print(x[0])"
   ]
  },
  {
   "cell_type": "code",
   "execution_count": 4,
   "metadata": {
    "collapsed": false
   },
   "outputs": [
    {
     "data": {
      "text/plain": [
       "500"
      ]
     },
     "execution_count": 4,
     "metadata": {},
     "output_type": "execute_result"
    }
   ],
   "source": [
    "len(Place.objects.all())"
   ]
  },
  {
   "cell_type": "code",
   "execution_count": 5,
   "metadata": {
    "collapsed": true
   },
   "outputs": [],
   "source": [
    "file = \"data/totetiroler_person_2016-08-12.csv\"\n",
    "with open(file, 'r', encoding='utf-8') as data:\n",
    "    reader = csv.reader(data)\n",
    "    datalist = list(reader)"
   ]
  },
  {
   "cell_type": "code",
   "execution_count": 6,
   "metadata": {
    "collapsed": false
   },
   "outputs": [],
   "source": [
    "for x in datalist:\n",
    "    pers, _ = Person.objects.get_or_create(kramer_index=x[0])\n",
    "    pers.name = x[1]\n",
    "    pers.vorname = x[2]\n",
    "    pers.alter = x[3]\n",
    "    try:\n",
    "        pers.todesjahr = int(x[4])\n",
    "    except:\n",
    "        pass\n",
    "        #print(x[0])\n",
    "    try:\n",
    "        pers.todesmonat = int(x[5])\n",
    "    except:\n",
    "        pass\n",
    "        #print(x[0])\n",
    "    try:\n",
    "        pers.todestag = int(x[6])\n",
    "    except:\n",
    "        pass\n",
    "        #print(x[0])\n",
    "    pers.beruf = Beruf.objects.get_or_create(name=x[9])[0]\n",
    "    pers.geburtsort = Place.objects.get_or_create(legacy_id=x[10])[0]\n",
    "    pers.sterbeort = Place.objects.get_or_create(legacy_id=x[11])[0]\n",
    "    pers.todesart = Todesart.objects.get_or_create(name=x[12])[0]\n",
    "    pers.save()"
   ]
  },
  {
   "cell_type": "code",
   "execution_count": 7,
   "metadata": {
    "collapsed": false
   },
   "outputs": [
    {
     "data": {
      "text/plain": [
       "970"
      ]
     },
     "execution_count": 7,
     "metadata": {},
     "output_type": "execute_result"
    }
   ],
   "source": [
    "len(Person.objects.all())"
   ]
  }
 ],
 "metadata": {
  "kernelspec": {
   "display_name": "Django Shell-Plus",
   "language": "python",
   "name": "django_extensions"
  },
  "language_info": {
   "codemirror_mode": {
    "name": "ipython",
    "version": 3
   },
   "file_extension": ".py",
   "mimetype": "text/x-python",
   "name": "python",
   "nbconvert_exporter": "python",
   "pygments_lexer": "ipython3",
   "version": "3.4.4"
  }
 },
 "nbformat": 4,
 "nbformat_minor": 0
}
